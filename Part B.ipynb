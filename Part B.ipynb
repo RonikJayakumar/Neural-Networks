{
  "nbformat": 4,
  "nbformat_minor": 0,
  "metadata": {
    "colab": {
      "private_outputs": true,
      "provenance": []
    },
    "kernelspec": {
      "name": "python3",
      "display_name": "Python 3"
    },
    "language_info": {
      "name": "python"
    },
    "accelerator": "GPU"
  },
  "cells": [
    {
      "cell_type": "markdown",
      "source": [
        "# Neural Networks with PyTorch\n",
        "\n",
        "In this assignment, we are going to train a Neural Networks on the Japanese MNIST dataset. It is composed of 70000 images of handwritten Hiragana characters. The target variables has 10 different classes.\n",
        "\n",
        "Each image is of dimension 28 by 28. But we will flatten them to form a dataset composed of vectors of dimension (784, 1). The training process will be similar as for a structured dataset.\n",
        "\n",
        "<img src='https://drive.google.com/uc?id=16TqEl9ESfXYbUpVafXD6h5UpJYGKfMxE' width=\"500\" height=\"200\">\n",
        "\n",
        "Your goal is to run at least 3 experiments and get a model that can achieve 80% accuracy with not much overfitting on this dataset.\n",
        "\n",
        "Some of the code have already been defined for you. You need only to add your code in the sections specified (marked with **TODO**). Some assert statements have been added to verify the expected outputs are correct. If it does throw an error, this means your implementation is behaving as expected.\n",
        "\n",
        "Note: You can only use fully-connected and dropout layers for this assignment. You can not convolution layers for instance"
      ],
      "metadata": {
        "id": "KNyZ-zZxlU6G"
      }
    },
    {
      "cell_type": "markdown",
      "source": [
        "# 1. Import Required Packages"
      ],
      "metadata": {
        "id": "iOufKqO8mw7n"
      }
    },
    {
      "cell_type": "markdown",
      "source": [
        "[1.1] We are going to use numpy, matplotlib and google.colab packages"
      ],
      "metadata": {
        "id": "b-sGJ26pmz4A"
      }
    },
    {
      "cell_type": "code",
      "execution_count": null,
      "metadata": {
        "id": "oTGG80etnMAa"
      },
      "outputs": [],
      "source": [
        "from google.colab import drive\n",
        "import numpy as np\n",
        "import matplotlib.pyplot as plt"
      ]
    },
    {
      "cell_type": "markdown",
      "source": [
        "# 2. Download Dataset\n",
        "\n",
        "We will store the dataset into your personal Google Drive.\n"
      ],
      "metadata": {
        "id": "Vyky0K3fnEFO"
      }
    },
    {
      "cell_type": "markdown",
      "source": [
        "[2.1] Mount Google Drive"
      ],
      "metadata": {
        "id": "ltUMtjG-nX-b"
      }
    },
    {
      "cell_type": "code",
      "source": [
        "drive.mount('/content/gdrive')"
      ],
      "metadata": {
        "id": "N_FVrXICnMJM"
      },
      "execution_count": null,
      "outputs": []
    },
    {
      "cell_type": "markdown",
      "source": [
        "[2.2] Create a folder called `DL_ASG_1` on your Google Drive at the root level"
      ],
      "metadata": {
        "id": "CzLtlKCHnT9H"
      }
    },
    {
      "cell_type": "code",
      "source": [
        "! mkdir -p /content/gdrive/MyDrive/DL_ASG_1"
      ],
      "metadata": {
        "id": "XZicoPks4POW"
      },
      "execution_count": null,
      "outputs": []
    },
    {
      "cell_type": "markdown",
      "source": [
        "[2.3] Navigate to this folder"
      ],
      "metadata": {
        "id": "sToej_3CnePP"
      }
    },
    {
      "cell_type": "code",
      "source": [
        "%cd '/content/gdrive/MyDrive/DL_ASG_1'"
      ],
      "metadata": {
        "id": "g2oAXToKnpXj"
      },
      "execution_count": null,
      "outputs": []
    },
    {
      "cell_type": "markdown",
      "source": [
        "[2.4] Show the list of item on the folder"
      ],
      "metadata": {
        "id": "TnRHIyhlzUwL"
      }
    },
    {
      "cell_type": "code",
      "source": [
        "!ls"
      ],
      "metadata": {
        "id": "Y-xYtezBzQ0c"
      },
      "execution_count": null,
      "outputs": []
    },
    {
      "cell_type": "markdown",
      "source": [
        "[2.4] Dowload the dataset files to your Google Drive if required"
      ],
      "metadata": {
        "id": "3vlfobqnnjJ1"
      }
    },
    {
      "cell_type": "code",
      "source": [
        "import requests\n",
        "from tqdm import tqdm\n",
        "import os.path\n",
        "\n",
        "def download_file(url):\n",
        "    path = url.split('/')[-1]\n",
        "    if os.path.isfile(path):\n",
        "        print (f\"{path} already exists\")\n",
        "    else:\n",
        "      r = requests.get(url, stream=True)\n",
        "      with open(path, 'wb') as f:\n",
        "          total_length = int(r.headers.get('content-length'))\n",
        "          print('Downloading {} - {:.1f} MB'.format(path, (total_length / 1024000)))\n",
        "          for chunk in tqdm(r.iter_content(chunk_size=1024), total=int(total_length / 1024) + 1, unit=\"KB\"):\n",
        "              if chunk:\n",
        "                  f.write(chunk)\n",
        "\n",
        "url_list = [\n",
        "    'http://codh.rois.ac.jp/kmnist/dataset/kmnist/kmnist-train-imgs.npz',\n",
        "    'http://codh.rois.ac.jp/kmnist/dataset/kmnist/kmnist-train-labels.npz',\n",
        "    'http://codh.rois.ac.jp/kmnist/dataset/kmnist/kmnist-test-imgs.npz',\n",
        "    'http://codh.rois.ac.jp/kmnist/dataset/kmnist/kmnist-test-labels.npz'\n",
        "]\n",
        "\n",
        "for url in url_list:\n",
        "    download_file(url)"
      ],
      "metadata": {
        "id": "M0owzTC427NM"
      },
      "execution_count": null,
      "outputs": []
    },
    {
      "cell_type": "markdown",
      "source": [
        "[2.5] List the content of the folder and confirm files have been dowloaded properly"
      ],
      "metadata": {
        "id": "DVF_Cx7Hny2i"
      }
    },
    {
      "cell_type": "code",
      "source": [
        "! ls"
      ],
      "metadata": {
        "id": "vt6ZKf4fnqkq"
      },
      "execution_count": null,
      "outputs": []
    },
    {
      "cell_type": "markdown",
      "source": [
        "# 3. Load Data"
      ],
      "metadata": {
        "id": "fvvfOON36hTf"
      }
    },
    {
      "cell_type": "markdown",
      "source": [
        "[3.1] Import the required modules from PyTorch"
      ],
      "metadata": {
        "id": "duFjgsyPoLPR"
      }
    },
    {
      "cell_type": "code",
      "source": [
        "# TODO (Students need to fill this section)\n",
        "import torch\n",
        "import torch.nn as nn\n",
        "import torch.nn.functional as F\n",
        "import torch.optim as optim\n",
        "import torch.utils.data as data\n",
        "from torch.utils.data import DataLoader, TensorDataset\n",
        "from tqdm.notebook import trange, tqdm\n",
        "import torchvision.transforms as transforms\n",
        "from torchsummary import summary\n",
        "from sklearn.metrics import confusion_matrix\n",
        "import seaborn as sns"
      ],
      "metadata": {
        "id": "1zolHKEO7GZA"
      },
      "execution_count": null,
      "outputs": []
    },
    {
      "cell_type": "markdown",
      "source": [
        "[3.2] **TODO** Create 2 variables called `img_height` and `img_width` that will both take the value 28"
      ],
      "metadata": {
        "id": "r4Aw5ObQoWdI"
      }
    },
    {
      "cell_type": "code",
      "source": [
        "# TODO (Students need to fill this section)\n",
        "img_height = 28\n",
        "img_width = 28"
      ],
      "metadata": {
        "id": "Ip0NFeyjpj79"
      },
      "execution_count": null,
      "outputs": []
    },
    {
      "cell_type": "markdown",
      "source": [
        "[3.3] Create a function that loads a .npz file using numpy and return the content of the `arr_0` key"
      ],
      "metadata": {
        "id": "hmX5SEHkpp63"
      }
    },
    {
      "cell_type": "code",
      "source": [
        "def load(f):\n",
        "    return np.load(f)['arr_0']"
      ],
      "metadata": {
        "id": "5S3cthx57L2f"
      },
      "execution_count": null,
      "outputs": []
    },
    {
      "cell_type": "markdown",
      "source": [
        "[3.4] **TODO** Load the 4 files saved on your Google Drive into their respective variables: x_train, y_train, x_test and y_test"
      ],
      "metadata": {
        "id": "8V2Ij9s7qRtj"
      }
    },
    {
      "cell_type": "code",
      "source": [
        "x_train = load('kmnist-train-imgs.npz')\n",
        "x_test = load('kmnist-test-imgs.npz')\n",
        "y_train = load('kmnist-train-labels.npz')\n",
        "y_test = load('kmnist-test-labels.npz')"
      ],
      "metadata": {
        "id": "5XTkRb0lqpEE"
      },
      "execution_count": null,
      "outputs": []
    },
    {
      "cell_type": "markdown",
      "source": [
        "[3.5] **TODO** Using matplotlib display the first image from the train set and its target value"
      ],
      "metadata": {
        "id": "3KC12nB7rlbV"
      }
    },
    {
      "cell_type": "code",
      "source": [
        "plt.figure(figsize=(4, 4))\n",
        "plt.imshow(x_train[0].reshape(28, 28), cmap='gray')\n",
        "plt.title(f'Label: {y_train[0]}')\n",
        "plt.axis('off')\n",
        "plt.show()"
      ],
      "metadata": {
        "id": "AOtWg7bBrwmV"
      },
      "execution_count": null,
      "outputs": []
    },
    {
      "cell_type": "markdown",
      "source": [
        "# 4. Prepare Data"
      ],
      "metadata": {
        "id": "htLk_27ir0B1"
      }
    },
    {
      "cell_type": "markdown",
      "source": [
        "[4.1] **TODO** Reshape the images from the training and testing set to have the channel dimension last. The dimensions should be: (row_number, height, width, channel)"
      ],
      "metadata": {
        "id": "VJEBe30Er33P"
      }
    },
    {
      "cell_type": "code",
      "source": [
        "x_train = x_train.reshape(x_train.shape[0], 28, 28, 1)\n",
        "x_test = x_test.reshape(x_test.shape[0], 28, 28, 1)"
      ],
      "metadata": {
        "id": "1yqWleZasxdR"
      },
      "execution_count": null,
      "outputs": []
    },
    {
      "cell_type": "markdown",
      "source": [
        "[4.2] **TODO** Cast `x_train` and `x_test` into `float32` decimals"
      ],
      "metadata": {
        "id": "F2f6wvFys2ZI"
      }
    },
    {
      "cell_type": "code",
      "source": [
        "x_train = torch.tensor(x_train, dtype=torch.float32)\n",
        "x_test = torch.tensor(x_test, dtype=torch.float32)"
      ],
      "metadata": {
        "id": "FWZmWe73tLXT"
      },
      "execution_count": null,
      "outputs": []
    },
    {
      "cell_type": "markdown",
      "source": [
        "[4.3] **TODO** Standardise the images of the training and testing sets. Originally each image contains pixels with value ranging from 0 to 255. after standardisation, the new value range should be from 0 to 1."
      ],
      "metadata": {
        "id": "Z-1Jr0pKs6jv"
      }
    },
    {
      "cell_type": "code",
      "source": [
        "x_train = x_train/255\n",
        "x_test = x_test/255"
      ],
      "metadata": {
        "id": "RXY1o272t0JO"
      },
      "execution_count": null,
      "outputs": []
    },
    {
      "cell_type": "markdown",
      "source": [
        "[4.4] **TODO** Create a variable called `num_classes` that will take the value 10 which corresponds to the number of classes for the target variable"
      ],
      "metadata": {
        "id": "9eH4aZmXt7Fe"
      }
    },
    {
      "cell_type": "code",
      "source": [
        "num_classes = 10"
      ],
      "metadata": {
        "id": "gTnMgLxYuUs6"
      },
      "execution_count": null,
      "outputs": []
    },
    {
      "cell_type": "markdown",
      "source": [
        "[4.5] **TODO** Convert the target variable for the training and testing sets to a binary class matrix of dimension (rows, num_classes).\n",
        "\n",
        "For example:\n",
        "- class 0 will become [1, 0, 0, 0, 0, 0, 0, 0, 0, 0]\n",
        "- class 1 will become [0, 1, 0, 0, 0, 0, 0, 0, 0, 0]\n",
        "- class 5 will become [0, 0, 0, 0, 0, 1, 0, 0, 0, 0]\n",
        "- class 9 will become [0, 0, 0, 0, 0, 0, 0, 0, 0, 1]"
      ],
      "metadata": {
        "id": "iAy0fUJsuyhb"
      }
    },
    {
      "cell_type": "code",
      "source": [
        "def one_hot(y, num_classes):\n",
        "  return np.eye(num_classes)[y]"
      ],
      "metadata": {
        "id": "ysNg37Ukwq8S"
      },
      "execution_count": null,
      "outputs": []
    },
    {
      "cell_type": "code",
      "source": [
        "y_train = one_hot(y_train, num_classes)\n",
        "y_test = one_hot(y_test, num_classes)"
      ],
      "metadata": {
        "id": "KZj2eEmmsUw7"
      },
      "execution_count": null,
      "outputs": []
    },
    {
      "cell_type": "markdown",
      "source": [
        "# 5. Define Neural Networks Architecure"
      ],
      "metadata": {
        "id": "0OCorS00wxPN"
      }
    },
    {
      "cell_type": "markdown",
      "source": [
        "[5.1] Set the seed in PyTorch for reproducing results\n",
        "\n"
      ],
      "metadata": {
        "id": "7G_L-yqTxI1d"
      }
    },
    {
      "cell_type": "code",
      "source": [
        "torch.manual_seed(1234)"
      ],
      "metadata": {
        "id": "XB8OIC9wrgFG"
      },
      "execution_count": null,
      "outputs": []
    },
    {
      "cell_type": "markdown",
      "source": [
        "[5.2] **TODO** Define the architecture of your Neural Networks and save it into a variable called `model`"
      ],
      "metadata": {
        "id": "5b93U4MixWeE"
      }
    },
    {
      "cell_type": "code",
      "source": [
        "# Architecture for Experiment 1\n",
        "class CustomMLP(nn.Module):\n",
        "    def __init__(self, input_dim, num_classes, dropout_prob):\n",
        "        super(CustomMLP, self).__init__()\n",
        "        self.layer1 = nn.Linear(input_dim, 350)\n",
        "        self.layer2 = nn.Linear(350, 100)\n",
        "        self.layer3 = nn.Linear(100, num_classes)\n",
        "\n",
        "    def forward(self, x):\n",
        "        x = F.relu(self.layer1(x))\n",
        "        x = F.relu(self.layer2(x))\n",
        "        x = self.layer3(x)\n",
        "        return x"
      ],
      "metadata": {
        "id": "gq1f74uKxpkp"
      },
      "execution_count": null,
      "outputs": []
    },
    {
      "cell_type": "code",
      "source": [
        "# Architecture for Experiment 2\n",
        "class CustomMLP2(nn.Module):\n",
        "    def __init__(self, input_dim, num_classes):\n",
        "        super(CustomMLP2, self).__init__()\n",
        "        self.layer1 = nn.Linear(input_dim, 350)\n",
        "        self.layer2 = nn.Linear(350, 100)\n",
        "        # self.dropout = nn.Dropout(dropout_prob)\n",
        "        self.layer3 = nn.Linear(100, num_classes)\n",
        "\n",
        "    def forward(self, x):\n",
        "        x = F.relu(self.layer1(x))\n",
        "        x = F.relu(self.layer2(x))\n",
        "        # x = self.dropout(x)\n",
        "        x = self.layer3(x)\n",
        "        return x"
      ],
      "metadata": {
        "id": "Xwqym2hE4aYt"
      },
      "execution_count": null,
      "outputs": []
    },
    {
      "cell_type": "code",
      "source": [
        "# Architecture for Experiment 3\n",
        "class CustomMLP3(nn.Module):\n",
        "    def __init__(self, input_dim, num_classes, dropout_prob=0.5):\n",
        "        super(CustomMLP3, self).__init__()\n",
        "        self.layer1 = nn.Linear(input_dim, 512)\n",
        "        self.layer2 = nn.Linear(512, 350)\n",
        "        self.layer3 = nn.Linear(350, 100)\n",
        "        self.dropout = nn.Dropout(dropout_prob)\n",
        "        self.layer4 = nn.Linear(100, num_classes)\n",
        "\n",
        "    def forward(self, x):\n",
        "        x = F.relu(self.layer1(x))\n",
        "        x = F.relu(self.layer2(x))\n",
        "        x = F.relu(self.layer3(x))\n",
        "        x = self.dropout(x)\n",
        "        x = self.layer4(x)\n",
        "        return x"
      ],
      "metadata": {
        "id": "o2IPr1raG6kj"
      },
      "execution_count": null,
      "outputs": []
    },
    {
      "cell_type": "code",
      "source": [
        "input_dim = 28*28\n",
        "dropout_prob = 0.5"
      ],
      "metadata": {
        "id": "NSlYyYJLtJdT"
      },
      "execution_count": null,
      "outputs": []
    },
    {
      "cell_type": "markdown",
      "source": [
        "[5.2] **TODO** Print the summary of your model"
      ],
      "metadata": {
        "id": "0IvuMQ81xu5U"
      }
    },
    {
      "cell_type": "code",
      "source": [
        "# Experiment 1\n",
        "model = CustomMLP(input_dim, num_classes)\n",
        "print(model)"
      ],
      "metadata": {
        "id": "gBRm-h5dxvIw"
      },
      "execution_count": null,
      "outputs": []
    },
    {
      "cell_type": "code",
      "source": [
        "# Experiment 2\n",
        "model2 = CustomMLP2(input_dim, num_classes)\n",
        "print(model2)"
      ],
      "metadata": {
        "id": "uYElqExtfpUW"
      },
      "execution_count": null,
      "outputs": []
    },
    {
      "cell_type": "code",
      "source": [
        "# Experiment 3\n",
        "model3 = CustomMLP3(input_dim, num_classes, dropout_prob)\n",
        "print(model3)"
      ],
      "metadata": {
        "id": "miuyZl6aSb8R"
      },
      "execution_count": null,
      "outputs": []
    },
    {
      "cell_type": "markdown",
      "source": [
        "# 6. Train Neural Networks"
      ],
      "metadata": {
        "id": "sOPTnNxtx6MC"
      }
    },
    {
      "cell_type": "markdown",
      "source": [
        "[6.1] **TODO** Create 2 variables called `batch_size` and `epochs` that will  respectively take the values 128 and 500"
      ],
      "metadata": {
        "id": "fsHJzhnAyP4H"
      }
    },
    {
      "cell_type": "code",
      "source": [
        "batch_size = 128\n",
        "epochs = 500"
      ],
      "metadata": {
        "id": "hNe_Cia0yde-"
      },
      "execution_count": null,
      "outputs": []
    },
    {
      "cell_type": "markdown",
      "source": [
        "[6.2] **TODO** Compile your model with the appropriate loss function, the optimiser of your choice and the accuracy metric"
      ],
      "metadata": {
        "id": "4-bAkzwXyjAs"
      }
    },
    {
      "cell_type": "code",
      "source": [
        "# Experiment 1\n",
        "criterion = nn.CrossEntropyLoss()\n",
        "optimizer = optim.SGD(model.parameters(), lr=0.0001,momentum = 0.9)\n"
      ],
      "metadata": {
        "id": "0WnNAYT6yjci"
      },
      "execution_count": null,
      "outputs": []
    },
    {
      "cell_type": "code",
      "source": [
        "# Experiment 2\n",
        "criterion2 = nn.CrossEntropyLoss()\n",
        "optimizer2 = optim.Adagrad(model2.parameters(), lr=0.001)\n"
      ],
      "metadata": {
        "id": "0TIu_2Kqf7sz"
      },
      "execution_count": null,
      "outputs": []
    },
    {
      "cell_type": "code",
      "source": [
        "# Experiment 3\n",
        "criterion3 = nn.CrossEntropyLoss()\n",
        "optimizer3 = optim.SGD(model3.parameters(), lr=0.0001, momentum = 0.9)"
      ],
      "metadata": {
        "id": "aSxpn_wiSk-o"
      },
      "execution_count": null,
      "outputs": []
    },
    {
      "cell_type": "markdown",
      "source": [
        "[6.3] **TODO** Train your model\n",
        "using the number of epochs defined. Calculate the total loss and save it to a variable called total_loss."
      ],
      "metadata": {
        "id": "iRvM_pEZy7SX"
      }
    },
    {
      "cell_type": "code",
      "source": [
        "train_dataset = TensorDataset((x_train), torch.from_numpy(y_train))\n",
        "test_dataset = TensorDataset((x_test), torch.from_numpy(y_test))\n",
        "\n",
        "train_loader = DataLoader(train_dataset, batch_size=batch_size, shuffle=True)\n",
        "test_loader = DataLoader(test_dataset, batch_size=batch_size)"
      ],
      "metadata": {
        "id": "EMzFo2r5JKn6"
      },
      "execution_count": null,
      "outputs": []
    },
    {
      "cell_type": "code",
      "source": [
        "# Experiment 1 training\n",
        "train_losses = []\n",
        "train_accuracies = []\n",
        "\n",
        "for epoch in range(epochs):\n",
        "  total_loss = 0\n",
        "  correct = 0\n",
        "  model.train()\n",
        "  for input, labels in train_loader:\n",
        "    input = input.view(input.size(0), -1)\n",
        "    optimizer.zero_grad()\n",
        "\n",
        "    #Forward Pass\n",
        "    outputs = model(input)\n",
        "    loss = criterion(outputs, labels)\n",
        "\n",
        "    #Backward Pass\n",
        "    loss.backward()\n",
        "    optimizer.step()\n",
        "    total_loss += loss.item()\n",
        "\n",
        "    _, predicted = torch.max(outputs.data, 1)\n",
        "    _, labels = torch.max(labels, 1)\n",
        "    correct += (predicted == labels).sum().item()\n",
        "\n",
        "  train_loss = total_loss / len(train_loader.dataset)\n",
        "  train_accuracy = (correct / len(train_loader.dataset)) * 100\n",
        "  print(f\"Epoch {epoch+1}/{epochs}, Train Loss: {train_loss:.4f}, Train Accuracy: {train_accuracy:.4f}\")\n",
        "  train_losses.append(train_loss)\n",
        "  train_accuracies.append(train_accuracy)"
      ],
      "metadata": {
        "id": "c_IF73TnxKMd"
      },
      "execution_count": null,
      "outputs": []
    },
    {
      "cell_type": "markdown",
      "source": [
        "[6.4] **TODO** Test your model.  Initiate the model.eval() along with torch.no_grad() to turn off the gradients.\n"
      ],
      "metadata": {
        "id": "emZ5Ayr88PZh"
      }
    },
    {
      "cell_type": "code",
      "source": [
        "# Experimeny 1 testing\n",
        "all_predicted_labels = []\n",
        "all_true_labels = []\n",
        "model.eval()\n",
        "test_loss = 0.0\n",
        "correct = 0\n",
        "\n",
        "with torch.no_grad():\n",
        "  for input, labels in test_loader:\n",
        "    input = input.view(input.size(0), -1)\n",
        "      # inputs, targets = inputs.view(inputs.size(0), -1).to(device), targets.to(device)\n",
        "    output = model(input)\n",
        "    test_loss += criterion(output, labels).item()\n",
        "    _, predicted = output.max(1)\n",
        "    _, labels = torch.max(labels, 1)\n",
        "    correct += predicted.eq(labels).sum().item()\n",
        "    all_predicted_labels.extend(predicted.cpu().numpy())\n",
        "    all_true_labels.extend(labels.cpu().numpy())\n",
        "\n",
        "test_loss /= len(test_loader.dataset)\n",
        "test_accuracy = (correct / len(test_loader.dataset)) * 100\n",
        "\n",
        "print(f\"Test Loss: {test_loss:.4f}, Accuracy: {test_accuracy:.2f}%\")"
      ],
      "metadata": {
        "id": "bfvBZ3zy8QM9"
      },
      "execution_count": null,
      "outputs": []
    },
    {
      "cell_type": "code",
      "source": [
        "# Experiment 2 Training and Testing\n",
        "train_losses2 = []\n",
        "train_accuracies2 = []\n",
        "test_accuracies2 = []\n",
        "test_losses2 = []\n",
        "\n",
        "for epoch in range(500):\n",
        "    total_loss2 = 0\n",
        "    correct2 = 0\n",
        "    model2.train()\n",
        "\n",
        "    for inputs, labels in train_loader:\n",
        "        optimizer2.zero_grad()\n",
        "\n",
        "        # Forward pass\n",
        "        inputs = inputs.view(inputs.size(0), -1)\n",
        "        outputs2 = model2(inputs)\n",
        "        loss = criterion2(outputs2, labels)\n",
        "\n",
        "        # Backward pass\n",
        "        loss.backward()\n",
        "        optimizer2.step()\n",
        "\n",
        "        total_loss2 += loss.item()\n",
        "\n",
        "        # Calculate accuracy\n",
        "        _, predicted = torch.max(outputs2, 1)\n",
        "        _, labels = torch.max(labels, 1)\n",
        "        correct2 += (predicted == labels).sum().item()\n",
        "\n",
        "    # Calculate average loss and accuracy for the epoch\n",
        "    train_loss2 = total_loss2 / len(train_loader.dataset)\n",
        "    train_accuracy2 = (correct2 / len(train_loader.dataset)) * 100\n",
        "\n",
        "    # Print and store training loss and accuracy\n",
        "    print(f\"Epoch {epoch+1}/{epochs}, Train Loss: {train_loss2:.4f}, Train Accuracy: {train_accuracy2:.4f}\")\n",
        "    train_losses2.append(train_loss2)\n",
        "    train_accuracies2.append(train_accuracy2)\n",
        "\n",
        "    # Testing\n",
        "    all_predicted_labels2 = []\n",
        "    all_true_labels2 = []\n",
        "    model2.eval()\n",
        "    test_loss2 = 0.0\n",
        "    correct2 = 0\n",
        "\n",
        "    with torch.no_grad():\n",
        "        for input, labels in test_loader:\n",
        "            input = input.view(input.size(0), -1)\n",
        "            output2 = model2(input)\n",
        "            test_loss2 += criterion2(output2, labels).item()\n",
        "            _, predicted = output2.max(1)\n",
        "            _, labels = torch.max(labels, 1)\n",
        "            correct2 += predicted.eq(labels).sum().item()\n",
        "            all_predicted_labels2.extend(predicted.cpu().numpy())\n",
        "            all_true_labels2.extend(labels.cpu().numpy())\n",
        "\n",
        "    test_loss2 /= len(test_loader.dataset)\n",
        "    test_accuracy2 = (correct2 / len(test_loader.dataset)) * 100\n",
        "\n",
        "    print(f\"Test Loss: {test_loss2:.4f}, Test Accuracy: {test_accuracy2:.2f}%\")\n",
        "    test_accuracies2.append(test_accuracy2)\n",
        "    test_losses2.append(test_loss2)"
      ],
      "metadata": {
        "id": "lY0oKrFjCM52"
      },
      "execution_count": null,
      "outputs": []
    },
    {
      "cell_type": "code",
      "source": [
        "# Experiment 3 training and testing\n",
        "train_losses3 = []\n",
        "train_accuracies3 = []\n",
        "test_accuracies3 = []\n",
        "test_losses3 = []\n",
        "\n",
        "for epoch in range(500):\n",
        "    total_loss3 = 0\n",
        "    correct3 = 0\n",
        "    model3.train()\n",
        "\n",
        "    for inputs, labels in train_loader:\n",
        "        optimizer3.zero_grad()\n",
        "\n",
        "        # Forward pass\n",
        "        inputs = inputs.view(inputs.size(0), -1)\n",
        "        outputs3 = model3(inputs)\n",
        "        loss = criterion3(outputs3, labels)\n",
        "\n",
        "        # Backward pass\n",
        "        loss.backward()\n",
        "        optimizer3.step()\n",
        "\n",
        "        total_loss3 += loss.item()\n",
        "\n",
        "        # Calculate accuracy\n",
        "        _, predicted = torch.max(outputs3, 1)\n",
        "        _, labels = torch.max(labels, 1)\n",
        "        correct3 += (predicted == labels).sum().item()\n",
        "\n",
        "    # Calculate average loss and accuracy for the epoch\n",
        "    train_loss3 = total_loss3 / len(train_loader.dataset)\n",
        "    train_accuracy3 = (correct3 / len(train_loader.dataset)) * 100\n",
        "\n",
        "    # Print and store training loss and accuracy\n",
        "    print(f\"Epoch {epoch+1}/{epochs}, Train Loss: {train_loss3:.4f}, Train Accuracy: {train_accuracy3:.4f}\")\n",
        "    train_losses3.append(train_loss3)\n",
        "    train_accuracies3.append(train_accuracy3)\n",
        "\n",
        "    # Testing\n",
        "    all_predicted_labels3 = []\n",
        "    all_true_labels3 = []\n",
        "    model3.eval()\n",
        "    test_loss3 = 0.0\n",
        "    correct3 = 0\n",
        "\n",
        "    with torch.no_grad():\n",
        "        for input, labels in test_loader:\n",
        "            input = input.view(input.size(0), -1)\n",
        "            output3 = model3(input)\n",
        "            test_loss3 += criterion3(output3, labels).item()\n",
        "            _, predicted = output3.max(1)\n",
        "            _, labels = torch.max(labels, 1)\n",
        "            correct3 += predicted.eq(labels).sum().item()\n",
        "            all_predicted_labels3.extend(predicted.cpu().numpy())\n",
        "            all_true_labels3.extend(labels.cpu().numpy())\n",
        "\n",
        "    test_loss3 /= len(test_loader.dataset)\n",
        "    test_accuracy3 = (correct3 / len(test_loader.dataset)) * 100\n",
        "\n",
        "    print(f\"Test Loss: {test_loss3:.4f}, Test Accuracy: {test_accuracy3:.2f}%\")\n",
        "    test_accuracies3.append(test_accuracy3)\n",
        "    test_losses3.append(test_loss3)"
      ],
      "metadata": {
        "id": "rcQn5ZiEh18Y"
      },
      "execution_count": null,
      "outputs": []
    },
    {
      "cell_type": "markdown",
      "source": [
        "# 7. Analyse Results"
      ],
      "metadata": {
        "id": "vz9uFy_X6oeA"
      }
    },
    {
      "cell_type": "markdown",
      "source": [
        "[7.1] **TODO** Display the performance of your model on the training and testing sets"
      ],
      "metadata": {
        "id": "ddugPZhZ68Wb"
      }
    },
    {
      "cell_type": "code",
      "source": [
        "# Experiment 1 performance\n",
        "print(f\"Training Accuracy: {train_accuracy:.2f} \\nTesting Accuracy: {test_accuracy:.2f}\")"
      ],
      "metadata": {
        "id": "yihZIPZ_6sql"
      },
      "execution_count": null,
      "outputs": []
    },
    {
      "cell_type": "markdown",
      "source": [
        "[7.2] **TODO** Plot the learning curve of your model"
      ],
      "metadata": {
        "id": "iBTo_xEI7K_z"
      }
    },
    {
      "cell_type": "code",
      "source": [
        "# Experiment 1 plot\n",
        "plt.figure(figsize=(10, 5))\n",
        "plt.subplot(1, 2, 1)\n",
        "plt.plot(range(1, epochs+1), train_losses, label='Training Loss')\n",
        "plt.xlabel('Epochs')\n",
        "plt.ylabel('Loss')\n",
        "plt.title('Training Loss')\n",
        "plt.legend()\n",
        "\n",
        "plt.subplot(1, 2, 2)\n",
        "plt.plot(range(1, epochs+1), train_accuracies, label='Training Accuracy')\n",
        "plt.xlabel('Epochs')\n",
        "plt.ylabel('Accuracy')\n",
        "plt.title('Training Accuracy')\n",
        "plt.legend()\n",
        "\n",
        "plt.tight_layout()\n",
        "plt.show()"
      ],
      "metadata": {
        "id": "jRt_4W2F7RVV"
      },
      "execution_count": null,
      "outputs": []
    },
    {
      "cell_type": "markdown",
      "source": [
        "[7.3] **TODO** Display the confusion matrix on the testing set predictions"
      ],
      "metadata": {
        "id": "qKPu98GR7a17"
      }
    },
    {
      "cell_type": "code",
      "source": [
        "# Experiment 1 confusion matrix\n",
        "conf_matrix = confusion_matrix(all_true_labels, all_predicted_labels)\n",
        "plt.figure(figsize=(10, 8))\n",
        "sns.heatmap(conf_matrix, annot=True, fmt='d', cmap='Blues')\n",
        "plt.xlabel('Predicted Labels')\n",
        "plt.ylabel('True Labels')\n",
        "plt.title('Confusion Matrix')\n",
        "plt.show()"
      ],
      "metadata": {
        "id": "TkrP9JCgMzpT"
      },
      "execution_count": null,
      "outputs": []
    },
    {
      "cell_type": "code",
      "source": [
        "# Experiment 2 performance\n",
        "print(f\"Training Accuracy: {train_accuracy2:.2f}% \\nTesting Accuracy: {test_accuracy2:.2f}%\")"
      ],
      "metadata": {
        "id": "VNQTtJpNtOjZ"
      },
      "execution_count": null,
      "outputs": []
    },
    {
      "cell_type": "code",
      "source": [
        "epochs = len(train_losses2)\n",
        "\n",
        "plt.figure(figsize=(12, 6))\n",
        "plt.subplot(1, 2, 1)\n",
        "plt.plot(range(1, epochs + 1), train_losses2, label='Training Accuracy')\n",
        "plt.plot(range(1, epochs + 1), test_losses2, label='Testing Accuracy')\n",
        "plt.xlabel('Epochs')\n",
        "plt.ylabel('Loss')\n",
        "plt.title('Training and Testing Losses')\n",
        "plt.grid(True)\n",
        "plt.legend()\n",
        "\n",
        "plt.subplot(1, 2, 2)\n",
        "plt.plot(range(1, epochs + 1), train_accuracies2, label='Training Accuracy')\n",
        "plt.plot(range(1, epochs + 1), test_accuracies2, label='Testing Accuracy')\n",
        "plt.xlabel('Epochs')\n",
        "plt.ylabel('Accuracy (%)')\n",
        "plt.title('Training and Testing Accuracies')\n",
        "plt.legend()\n",
        "\n",
        "plt.grid(True)\n",
        "plt.tight_layout()\n",
        "plt.show()"
      ],
      "metadata": {
        "id": "FVQmL0lKtPUR"
      },
      "execution_count": null,
      "outputs": []
    },
    {
      "cell_type": "code",
      "source": [
        "# Experiment 2 Confusion Matrix\n",
        "conf_matrix = confusion_matrix(all_true_labels2, all_predicted_labels2)\n",
        "plt.figure(figsize=(10, 8))\n",
        "sns.heatmap(conf_matrix, annot=True, fmt='d', cmap='Blues')\n",
        "plt.xlabel('Predicted Labels')\n",
        "plt.ylabel('True Labels')\n",
        "plt.title('Confusion Matrix')\n",
        "plt.show()"
      ],
      "metadata": {
        "id": "9u_Y4MH_tPKC"
      },
      "execution_count": null,
      "outputs": []
    },
    {
      "cell_type": "code",
      "source": [
        "# Experiment 3 Performance\n",
        "print(f\"Training Accuracy: {train_accuracy3:.2f}% \\nTesting Accuracy: {test_accuracy3:.2f}%\")"
      ],
      "metadata": {
        "id": "xMFCt2c-BwdQ"
      },
      "execution_count": null,
      "outputs": []
    },
    {
      "cell_type": "code",
      "source": [
        "# Experiment 3 Plot\n",
        "epochs = len(train_losses3)\n",
        "\n",
        "plt.figure(figsize=(12, 6))\n",
        "plt.subplot(1, 2, 1)\n",
        "plt.plot(range(1, epochs + 1), train_losses3, label='Training Accuracy')\n",
        "plt.plot(range(1, epochs + 1), test_losses3, label='Testing Accuracy')\n",
        "plt.xlabel('Epochs')\n",
        "plt.ylabel('Loss')\n",
        "plt.title('Training and Testing Losses')\n",
        "plt.legend()\n",
        "\n",
        "plt.subplot(1, 2, 2)\n",
        "plt.plot(range(1, epochs + 1), train_accuracies3, label='Training Accuracy')\n",
        "plt.plot(range(1, epochs + 1), test_accuracies3, label='Testing Accuracy')\n",
        "plt.xlabel('Epochs')\n",
        "plt.ylabel('Accuracy (%)')\n",
        "plt.title('Training and Testing Accuracies')\n",
        "plt.legend()\n",
        "\n",
        "plt.tight_layout()\n",
        "plt.show()"
      ],
      "metadata": {
        "id": "sPlYzb3bB0dA"
      },
      "execution_count": null,
      "outputs": []
    },
    {
      "cell_type": "code",
      "source": [
        "# Experiment 3 Confusion Matrix\n",
        "conf_matrix = confusion_matrix(all_true_labels3, all_predicted_labels3)\n",
        "plt.figure(figsize=(10, 8))\n",
        "sns.heatmap(conf_matrix, annot=True, fmt='d', cmap='Blues')\n",
        "plt.xlabel('Predicted Labels')\n",
        "plt.ylabel('True Labels')\n",
        "plt.title('Confusion Matrix')\n",
        "plt.show()"
      ],
      "metadata": {
        "id": "_AnAc-rSB0QV"
      },
      "execution_count": null,
      "outputs": []
    }
  ]
}